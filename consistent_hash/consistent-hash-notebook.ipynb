{
 "cells": [
  {
   "cell_type": "code",
   "execution_count": null,
   "id": "37e1743b",
   "metadata": {},
   "outputs": [],
   "source": [
    "from Store import *\n",
    "from CHash import *"
   ]
  },
  {
   "cell_type": "code",
   "execution_count": null,
   "id": "93db6bcd",
   "metadata": {},
   "outputs": [],
   "source": [
    "def read_words(fname):\n",
    "  \"\"\" \n",
    "  Just read a bunch of words from a file.\n",
    "  \"\"\"\n",
    "  result = []\n",
    "  with open(fname, 'r') as f:\n",
    "    for word in f:\n",
    "      word = word.split('/')[0]\n",
    "      word = word.strip()\n",
    "      result.append(word)\n",
    "   \n",
    "  return result"
   ]
  },
  {
   "cell_type": "code",
   "execution_count": null,
   "id": "fdb650d3",
   "metadata": {},
   "outputs": [],
   "source": [
    "words = read_words('words_alpha.txt')\n",
    "words = words[:100]"
   ]
  },
  {
   "cell_type": "code",
   "execution_count": null,
   "id": "01f259fa",
   "metadata": {},
   "outputs": [],
   "source": [
    "  \"\"\" \n",
    "  We create an object representing the hash scheme that we are willing to use.\n",
    "  The hash object is then passed to the Store constructor. When adding elements\n",
    "  to the store, the selected hash scheme is used to determine where to place\n",
    "  the records.\n",
    "  \"\"\"\n",
    "my_hash = CHash()\n",
    "my_store = Store(my_hash)"
   ]
  },
  {
   "cell_type": "code",
   "execution_count": null,
   "id": "b312fafb",
   "metadata": {},
   "outputs": [],
   "source": [
    "  \"\"\"\n",
    "  Add three nodes to the Store\n",
    "  \"\"\"\n",
    "  my_store.add_node(\"Node 1\")\n",
    "  my_store.add_node(\"Node 2\")\n",
    "  my_store.add_node(\"Node 3\")\n",
    "  \n",
    "  my_store.dump()\n"
   ]
  },
  {
   "cell_type": "code",
   "execution_count": null,
   "id": "8ff50eb4",
   "metadata": {},
   "outputs": [],
   "source": [
    "  \"\"\"\n",
    "  Save all words in the Store\n",
    "  \"\"\"\n",
    "  for word in words:\n",
    "      my_store.add_resource(word)\n",
    "  \n",
    "  my_store.dump()\n"
   ]
  },
  {
   "cell_type": "code",
   "execution_count": null,
   "id": "2711289c",
   "metadata": {},
   "outputs": [],
   "source": [
    "  \"\"\"\n",
    "  Remove one node from the Store. Stored objects need to be migrated to the\n",
    "  remaining nodes.\n",
    "  \"\"\"\n",
    "  my_store.remove_node(\"Node 1\")\n",
    "  my_store.dump()"
   ]
  },
  {
   "cell_type": "code",
   "execution_count": null,
   "id": "66d48471",
   "metadata": {},
   "outputs": [],
   "source": [
    "  \"\"\"\n",
    "  Add the node back to the Store. Objects need to be migrated to conform to the\n",
    "  Hash scheme.\n",
    "  \"\"\"\n",
    "  my_store.add_node(\"Node 1\")\n",
    "  my_store.dump()"
   ]
  },
  {
   "cell_type": "code",
   "execution_count": null,
   "id": "7327a531",
   "metadata": {},
   "outputs": [],
   "source": []
  }
 ],
 "metadata": {
  "kernelspec": {
   "display_name": "Python 3 (ipykernel)",
   "language": "python",
   "name": "python3"
  },
  "language_info": {
   "codemirror_mode": {
    "name": "ipython",
    "version": 3
   },
   "file_extension": ".py",
   "mimetype": "text/x-python",
   "name": "python",
   "nbconvert_exporter": "python",
   "pygments_lexer": "ipython3",
   "version": "3.10.4"
  }
 },
 "nbformat": 4,
 "nbformat_minor": 5
}
